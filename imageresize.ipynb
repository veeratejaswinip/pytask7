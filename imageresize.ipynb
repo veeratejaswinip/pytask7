{
 "cells": [
  {
   "cell_type": "code",
   "execution_count": 3,
   "id": "9c90572f-290b-491a-9f6b-9ac855038ed7",
   "metadata": {},
   "outputs": [
    {
     "name": "stdout",
     "output_type": "stream",
     "text": [
      "Image resized and saved as: C:\\Users\\TEJASWINI\\Pictures\\veera_resized.jpeg\n"
     ]
    }
   ],
   "source": [
    "from PIL import Image\n",
    "import os\n",
    "\n",
    "# Select image file (give full path or keep in same folder as script)\n",
    "image_path = (r\"C:\\Users\\TEJASWINI\\Pictures\\veera.jpeg\" )\n",
    "\n",
    "# New size\n",
    "new_size = (300, 300)\n",
    "\n",
    "# Open image\n",
    "img = Image.open(image_path)\n",
    "\n",
    "# Resize\n",
    "img_resized = img.resize(new_size, Image.LANCZOS)\n",
    "\n",
    "# Save (overwrite original or save as new file)\n",
    "name, ext = os.path.splitext(image_path)\n",
    "new_image_path = f\"{name}_resized{ext}\"\n",
    "img_resized.save(new_image_path)\n",
    "\n",
    "print(f\"Image resized and saved as: {new_image_path}\")\n"
   ]
  },
  {
   "cell_type": "code",
   "execution_count": null,
   "id": "d29345e6-4c3a-4127-b2a0-ebe2a45b86d8",
   "metadata": {},
   "outputs": [],
   "source": []
  }
 ],
 "metadata": {
  "kernelspec": {
   "display_name": "Python 3 (ipykernel)",
   "language": "python",
   "name": "python3"
  },
  "language_info": {
   "codemirror_mode": {
    "name": "ipython",
    "version": 3
   },
   "file_extension": ".py",
   "mimetype": "text/x-python",
   "name": "python",
   "nbconvert_exporter": "python",
   "pygments_lexer": "ipython3",
   "version": "3.12.4"
  }
 },
 "nbformat": 4,
 "nbformat_minor": 5
}
